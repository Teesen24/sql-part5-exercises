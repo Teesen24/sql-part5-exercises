{
    "metadata": {
        "kernelspec": {
            "name": "SQL",
            "display_name": "SQL",
            "language": "sql"
        },
        "language_info": {
            "name": "sql",
            "version": ""
        }
    },
    "nbformat_minor": 2,
    "nbformat": 4,
    "cells": [
        {
            "cell_type": "markdown",
            "source": [
                "# Exercises: Creating, Updating, and Destroying Objects\n",
                "\n",
                "For the exercises, you will be working with objects and data you create. Before opening this notebook, make sure that you have set up the new connection to the server and that you have located the database and your schema.\n",
                "\n",
                "## Object Creation\n",
                "\n",
                "Before coding, think of three things you want to make. These could be coding projects, new recipes, or planned projects for a woodworking hobby. Brainstorm the appropriate column names and data types as well.\n",
                "\n",
                "Create a table under your schema called `planned_makes`."
            ],
            "metadata": {
                "azdata_cell_guid": "9d51c166-0c19-4f27-a422-2a6cf596bfb2"
            },
            "attachments": {}
        },
        {
            "cell_type": "code",
            "source": [
                "CREATE TABLE JunkDB_STL_March2022.tinuade.planned_makes (\r\n",
                "    visit_id INT PRIMARY KEY IDENTITY(1, 1),\r\n",
                "    services VARCHAR (50) NOT NULL,\r\n",
                "    sales VARCHAR (50) NOT NULL,\r\n",
                "    visited_at DATETIME,\r\n",
                "    phone VARCHAR(20),\r\n",
                "    studio_id INT NOT NULL \r\n",
                ");"
            ],
            "metadata": {
                "azdata_cell_guid": "d9238911-6f81-4f01-980d-b584307effaf",
                "language": "sql"
            },
            "outputs": [
                {
                    "output_type": "display_data",
                    "data": {
                        "text/html": "Commands completed successfully."
                    },
                    "metadata": {}
                },
                {
                    "output_type": "display_data",
                    "data": {
                        "text/html": "Total execution time: 00:00:00.081"
                    },
                    "metadata": {}
                }
            ],
            "execution_count": 14
        },
        {
            "cell_type": "code",
            "source": [
                "SELECT *\r\n",
                "FROM tinuade.planned_makes;"
            ],
            "metadata": {
                "language": "sql",
                "azdata_cell_guid": "d543683f-bc94-4120-b2cf-a56be18230c7"
            },
            "outputs": [
                {
                    "output_type": "display_data",
                    "data": {
                        "text/html": "(1 row affected)"
                    },
                    "metadata": {}
                },
                {
                    "output_type": "display_data",
                    "data": {
                        "text/html": "Total execution time: 00:00:00.059"
                    },
                    "metadata": {}
                },
                {
                    "output_type": "execute_result",
                    "metadata": {},
                    "execution_count": 32,
                    "data": {
                        "application/vnd.dataresource+json": {
                            "schema": {
                                "fields": [
                                    {
                                        "name": "visit_id"
                                    },
                                    {
                                        "name": "services"
                                    },
                                    {
                                        "name": "sales"
                                    },
                                    {
                                        "name": "visited_at"
                                    },
                                    {
                                        "name": "phone"
                                    },
                                    {
                                        "name": "studio_id"
                                    }
                                ]
                            },
                            "data": [
                                {
                                    "0": "1",
                                    "1": "hair",
                                    "2": "cap",
                                    "3": "2022-07-10 12:00:00.000",
                                    "4": "909000000",
                                    "5": "0"
                                }
                            ]
                        },
                        "text/html": [
                            "<table>",
                            "<tr><th>visit_id</th><th>services</th><th>sales</th><th>visited_at</th><th>phone</th><th>studio_id</th></tr>",
                            "<tr><td>1</td><td>hair</td><td>cap</td><td>2022-07-10 12:00:00.000</td><td>909000000</td><td>0</td></tr>",
                            "</table>"
                        ]
                    }
                }
            ],
            "execution_count": 32
        },
        {
            "cell_type": "markdown",
            "source": [
                "Add three rows to your table that are your planned makes."
            ],
            "metadata": {
                "azdata_cell_guid": "83cdf34d-8c4f-4fa1-a14e-77384b19d734"
            }
        },
        {
            "cell_type": "code",
            "source": [
                "INSERT INTO tinuade.planned_makes (visit_id, services, sales, visited_at, phone, studio_id)\r\n",
                "VALUES \r\n",
                "    (2, 'hair', 'cap', '2022-07-10 12:00:00', '909000000', 0),\r\n",
                "    (3, 'nails', 'polish', '2022-07-10 12:00:00', '909000222', 0),\r\n",
                "    (4, 'hair', 'gel', '2022-07-10 12:00:00', '909000123', 0)\r\n",
                "    \r\n",
                ""
            ],
            "metadata": {
                "azdata_cell_guid": "e7cff9cb-87ba-4c7b-98f2-eaf445e8719c",
                "language": "sql"
            },
            "outputs": [
                {
                    "output_type": "display_data",
                    "data": {
                        "text/html": "(3 rows affected)"
                    },
                    "metadata": {}
                },
                {
                    "output_type": "display_data",
                    "data": {
                        "text/html": "Total execution time: 00:00:00.093"
                    },
                    "metadata": {}
                }
            ],
            "execution_count": 37
        },
        {
            "cell_type": "code",
            "source": [
                "SELECT *\r\n",
                "FROM tinuade.planned_makes;"
            ],
            "metadata": {
                "language": "sql",
                "azdata_cell_guid": "d00ba9e5-73c6-473b-999d-db72a2ba505a"
            },
            "outputs": [
                {
                    "output_type": "display_data",
                    "data": {
                        "text/html": "(4 rows affected)"
                    },
                    "metadata": {}
                },
                {
                    "output_type": "display_data",
                    "data": {
                        "text/html": "Total execution time: 00:00:00.084"
                    },
                    "metadata": {}
                },
                {
                    "output_type": "execute_result",
                    "metadata": {},
                    "execution_count": 39,
                    "data": {
                        "application/vnd.dataresource+json": {
                            "schema": {
                                "fields": [
                                    {
                                        "name": "visit_id"
                                    },
                                    {
                                        "name": "services"
                                    },
                                    {
                                        "name": "sales"
                                    },
                                    {
                                        "name": "visited_at"
                                    },
                                    {
                                        "name": "phone"
                                    },
                                    {
                                        "name": "studio_id"
                                    }
                                ]
                            },
                            "data": [
                                {
                                    "0": "1",
                                    "1": "hair",
                                    "2": "cap",
                                    "3": "2022-07-10 12:00:00.000",
                                    "4": "909000000",
                                    "5": "0"
                                },
                                {
                                    "0": "2",
                                    "1": "hair",
                                    "2": "cap",
                                    "3": "2022-07-10 12:00:00.000",
                                    "4": "909000000",
                                    "5": "0"
                                },
                                {
                                    "0": "3",
                                    "1": "nails",
                                    "2": "polish",
                                    "3": "2022-07-10 12:00:00.000",
                                    "4": "909000222",
                                    "5": "0"
                                },
                                {
                                    "0": "4",
                                    "1": "hair",
                                    "2": "gel",
                                    "3": "2022-07-10 12:00:00.000",
                                    "4": "909000123",
                                    "5": "0"
                                }
                            ]
                        },
                        "text/html": [
                            "<table>",
                            "<tr><th>visit_id</th><th>services</th><th>sales</th><th>visited_at</th><th>phone</th><th>studio_id</th></tr>",
                            "<tr><td>1</td><td>hair</td><td>cap</td><td>2022-07-10 12:00:00.000</td><td>909000000</td><td>0</td></tr>",
                            "<tr><td>2</td><td>hair</td><td>cap</td><td>2022-07-10 12:00:00.000</td><td>909000000</td><td>0</td></tr>",
                            "<tr><td>3</td><td>nails</td><td>polish</td><td>2022-07-10 12:00:00.000</td><td>909000222</td><td>0</td></tr>",
                            "<tr><td>4</td><td>hair</td><td>gel</td><td>2022-07-10 12:00:00.000</td><td>909000123</td><td>0</td></tr>",
                            "</table>"
                        ]
                    }
                }
            ],
            "execution_count": 39
        },
        {
            "cell_type": "markdown",
            "source": [
                "## Update a Row\n",
                "\n",
                "Change different values in one of your three rows."
            ],
            "metadata": {
                "azdata_cell_guid": "4a39b8d4-ae97-4e09-8336-c5fc6a00d76c"
            },
            "attachments": {}
        },
        {
            "cell_type": "code",
            "source": [
                "UPDATE tinuade.planned_makes\r\n",
                "SET services = 'acrylics'\r\n",
                "WHERE visit_id = 3;"
            ],
            "metadata": {
                "azdata_cell_guid": "7409c695-9581-4ad8-b03a-574d2c4c87cb",
                "language": "sql"
            },
            "outputs": [
                {
                    "output_type": "display_data",
                    "data": {
                        "text/html": "(1 row affected)"
                    },
                    "metadata": {}
                },
                {
                    "output_type": "display_data",
                    "data": {
                        "text/html": "Total execution time: 00:00:00.049"
                    },
                    "metadata": {}
                }
            ],
            "execution_count": 41
        },
        {
            "cell_type": "code",
            "source": [
                "SELECT *\r\n",
                "FROM tinuade.planned_makes;"
            ],
            "metadata": {
                "language": "sql",
                "azdata_cell_guid": "52034580-0bf1-4c5d-a9b1-b6f951974216"
            },
            "outputs": [
                {
                    "output_type": "display_data",
                    "data": {
                        "text/html": "(4 rows affected)"
                    },
                    "metadata": {}
                },
                {
                    "output_type": "display_data",
                    "data": {
                        "text/html": "Total execution time: 00:00:00.077"
                    },
                    "metadata": {}
                },
                {
                    "output_type": "execute_result",
                    "metadata": {},
                    "execution_count": 42,
                    "data": {
                        "application/vnd.dataresource+json": {
                            "schema": {
                                "fields": [
                                    {
                                        "name": "visit_id"
                                    },
                                    {
                                        "name": "services"
                                    },
                                    {
                                        "name": "sales"
                                    },
                                    {
                                        "name": "visited_at"
                                    },
                                    {
                                        "name": "phone"
                                    },
                                    {
                                        "name": "studio_id"
                                    }
                                ]
                            },
                            "data": [
                                {
                                    "0": "1",
                                    "1": "hair",
                                    "2": "cap",
                                    "3": "2022-07-10 12:00:00.000",
                                    "4": "909000000",
                                    "5": "0"
                                },
                                {
                                    "0": "2",
                                    "1": "hair",
                                    "2": "cap",
                                    "3": "2022-07-10 12:00:00.000",
                                    "4": "909000000",
                                    "5": "0"
                                },
                                {
                                    "0": "3",
                                    "1": "acrylics",
                                    "2": "polish",
                                    "3": "2022-07-10 12:00:00.000",
                                    "4": "909000222",
                                    "5": "0"
                                },
                                {
                                    "0": "4",
                                    "1": "hair",
                                    "2": "gel",
                                    "3": "2022-07-10 12:00:00.000",
                                    "4": "909000123",
                                    "5": "0"
                                }
                            ]
                        },
                        "text/html": [
                            "<table>",
                            "<tr><th>visit_id</th><th>services</th><th>sales</th><th>visited_at</th><th>phone</th><th>studio_id</th></tr>",
                            "<tr><td>1</td><td>hair</td><td>cap</td><td>2022-07-10 12:00:00.000</td><td>909000000</td><td>0</td></tr>",
                            "<tr><td>2</td><td>hair</td><td>cap</td><td>2022-07-10 12:00:00.000</td><td>909000000</td><td>0</td></tr>",
                            "<tr><td>3</td><td>acrylics</td><td>polish</td><td>2022-07-10 12:00:00.000</td><td>909000222</td><td>0</td></tr>",
                            "<tr><td>4</td><td>hair</td><td>gel</td><td>2022-07-10 12:00:00.000</td><td>909000123</td><td>0</td></tr>",
                            "</table>"
                        ]
                    }
                }
            ],
            "execution_count": 42
        },
        {
            "cell_type": "markdown",
            "source": [
                "## Delete a Row\n",
                "\n",
                "Delete one of the rows from your table."
            ],
            "metadata": {
                "azdata_cell_guid": "95e91a6e-9038-42d9-9401-5738842aba17"
            }
        },
        {
            "cell_type": "code",
            "source": [
                "DELETE FROM tinuade.planned_makes\r\n",
                "WHERE visit_id =2;\r\n",
                ""
            ],
            "metadata": {
                "azdata_cell_guid": "749c748f-19b5-4c69-9004-b6b20216616a",
                "language": "sql"
            },
            "outputs": [
                {
                    "output_type": "display_data",
                    "data": {
                        "text/html": "(0 rows affected)"
                    },
                    "metadata": {}
                },
                {
                    "output_type": "display_data",
                    "data": {
                        "text/html": "Total execution time: 00:00:00.053"
                    },
                    "metadata": {}
                }
            ],
            "execution_count": 46
        },
        {
            "cell_type": "code",
            "source": [
                "SELECT *\r\n",
                "FROM tinuade.planned_makes;"
            ],
            "metadata": {
                "language": "sql",
                "azdata_cell_guid": "3a484ce3-98f1-41d8-8055-8d2ff41d1c0b"
            },
            "outputs": [
                {
                    "output_type": "display_data",
                    "data": {
                        "text/html": "(3 rows affected)"
                    },
                    "metadata": {}
                },
                {
                    "output_type": "display_data",
                    "data": {
                        "text/html": "Total execution time: 00:00:00.147"
                    },
                    "metadata": {}
                },
                {
                    "output_type": "execute_result",
                    "metadata": {},
                    "execution_count": 44,
                    "data": {
                        "application/vnd.dataresource+json": {
                            "schema": {
                                "fields": [
                                    {
                                        "name": "visit_id"
                                    },
                                    {
                                        "name": "services"
                                    },
                                    {
                                        "name": "sales"
                                    },
                                    {
                                        "name": "visited_at"
                                    },
                                    {
                                        "name": "phone"
                                    },
                                    {
                                        "name": "studio_id"
                                    }
                                ]
                            },
                            "data": [
                                {
                                    "0": "1",
                                    "1": "hair",
                                    "2": "cap",
                                    "3": "2022-07-10 12:00:00.000",
                                    "4": "909000000",
                                    "5": "0"
                                },
                                {
                                    "0": "3",
                                    "1": "acrylics",
                                    "2": "polish",
                                    "3": "2022-07-10 12:00:00.000",
                                    "4": "909000222",
                                    "5": "0"
                                },
                                {
                                    "0": "4",
                                    "1": "hair",
                                    "2": "gel",
                                    "3": "2022-07-10 12:00:00.000",
                                    "4": "909000123",
                                    "5": "0"
                                }
                            ]
                        },
                        "text/html": [
                            "<table>",
                            "<tr><th>visit_id</th><th>services</th><th>sales</th><th>visited_at</th><th>phone</th><th>studio_id</th></tr>",
                            "<tr><td>1</td><td>hair</td><td>cap</td><td>2022-07-10 12:00:00.000</td><td>909000000</td><td>0</td></tr>",
                            "<tr><td>3</td><td>acrylics</td><td>polish</td><td>2022-07-10 12:00:00.000</td><td>909000222</td><td>0</td></tr>",
                            "<tr><td>4</td><td>hair</td><td>gel</td><td>2022-07-10 12:00:00.000</td><td>909000123</td><td>0</td></tr>",
                            "</table>"
                        ]
                    }
                }
            ],
            "execution_count": 44
        },
        {
            "cell_type": "markdown",
            "source": [
                "## Drop the Table\n",
                "\n",
                "While this has been fun, it is time to drop the table!"
            ],
            "metadata": {
                "azdata_cell_guid": "2239cb09-137b-4579-905b-1aa020793181"
            },
            "attachments": {}
        },
        {
            "cell_type": "code",
            "source": [
                "DROP TABLE tinuade.planned_makes"
            ],
            "metadata": {
                "azdata_cell_guid": "b3c7f6ea-ee26-46b3-9c2a-2f7a82c39699",
                "language": "sql"
            },
            "outputs": [
                {
                    "output_type": "display_data",
                    "data": {
                        "text/html": "Commands completed successfully."
                    },
                    "metadata": {}
                },
                {
                    "output_type": "display_data",
                    "data": {
                        "text/html": "Total execution time: 00:00:00.053"
                    },
                    "metadata": {}
                }
            ],
            "execution_count": 50
        }
    ]
}